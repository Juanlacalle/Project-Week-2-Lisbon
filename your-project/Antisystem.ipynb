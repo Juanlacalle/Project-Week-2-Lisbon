{
 "cells": [
  {
   "cell_type": "code",
   "execution_count": 16,
   "metadata": {},
   "outputs": [],
   "source": [
    "import numpy as np\n",
    "import pandas as pd\n",
    "import csv"
   ]
  },
  {
   "cell_type": "code",
   "execution_count": null,
   "metadata": {},
   "outputs": [],
   "source": []
  },
  {
   "cell_type": "code",
   "execution_count": 23,
   "metadata": {},
   "outputs": [],
   "source": [
    "#data=pd.read_csv('Perception2018.csv', sep=';')\n"
   ]
  },
  {
   "cell_type": "code",
   "execution_count": 32,
   "metadata": {},
   "outputs": [],
   "source": [
    "data=pd.read_csv('crime 2018.csv', sep=';')"
   ]
  },
  {
   "cell_type": "code",
   "execution_count": 33,
   "metadata": {},
   "outputs": [
    {
     "name": "stdout",
     "output_type": "stream",
     "text": [
      "    Unnamed: 0                                         Unnamed: 1  Unnamed: 2  \\\n",
      "0          NaN                                         Total 2018         NaN   \n",
      "1          NaN                                           Homicide         NaN   \n",
      "2          NaN                            Omission of S.O.S. duty         NaN   \n",
      "3          NaN                                         Falsehoods         NaN   \n",
      "4          NaN                                            Lesions         NaN   \n",
      "5          NaN                                            Torture         NaN   \n",
      "6          NaN                                      Human traffic         NaN   \n",
      "7          NaN                                   Economics crimes         NaN   \n",
      "8          NaN                                    Against foreign         NaN   \n",
      "9          NaN                                      Against honor         NaN   \n",
      "10         NaN                               Against Constitution         NaN   \n",
      "11         NaN                                    Against privacy         NaN   \n",
      "12         NaN                                    Against freedom         NaN   \n",
      "13         NaN                             Against sexual freedom         NaN   \n",
      "14         NaN                                    Against Justice         NaN   \n",
      "15         NaN                      Against public administration         NaN   \n",
      "16         NaN                     Against familiar relationships         NaN   \n",
      "17         NaN                        Crimes against public order         NaN   \n",
      "18         NaN             Crimes related to genetic manipulation         NaN   \n",
      "19         NaN                                    Workers' rights         NaN   \n",
      "20         NaN  Against the Public Treasury and against Social...         NaN   \n",
      "21         NaN                        Against collective security         NaN   \n",
      "22         NaN  Crimes related to urban planning, the protecti...         NaN   \n",
      "\n",
      "    Unnamed: 3  BARCELONA  1.Ciutat  \\nVella  2.Eixample  \\\n",
      "0          NaN    219.521             54.056      56.231   \n",
      "1          NaN     73.000             15.000       7.000   \n",
      "2          NaN      1.000              0.000       0.000   \n",
      "3          NaN    820.000             99.000     167.000   \n",
      "4          NaN      5.699              1.090       1.035   \n",
      "5          NaN    162.000             18.000      25.000   \n",
      "6          NaN     10.000              2.000       1.000   \n",
      "7          NaN    205.231             51.228      53.832   \n",
      "8          NaN      1.000              0.000       1.000   \n",
      "9          NaN     24.000              0.000       5.000   \n",
      "10         NaN     67.000              9.000       6.000   \n",
      "11         NaN    491.000             65.000      99.000   \n",
      "12         NaN      3.313            444.000     497.000   \n",
      "13         NaN    743.000            128.000     131.000   \n",
      "14         NaN    647.000             96.000      95.000   \n",
      "15         NaN      8.000              2.000       1.000   \n",
      "16         NaN    173.000             16.000      17.000   \n",
      "17         NaN    974.000            317.000     216.000   \n",
      "18         NaN      1.000              0.000       0.000   \n",
      "19         NaN      8.000              0.000       2.000   \n",
      "20         NaN      2.000              0.000       0.000   \n",
      "21         NaN      1.044            523.000      92.000   \n",
      "22         NaN     29.000              4.000       2.000   \n",
      "\n",
      "    3.Sants-  \\nMontjuïc  4.Les Corts  5.Sarrià-  \\nSant Gervasi  6.Gràcia  \\\n",
      "0                 24.065        7.794                     10.231     10.30   \n",
      "1                 14.000        2.000                      2.000      6.00   \n",
      "2                  0.000        0.000                      0.000      0.00   \n",
      "3                155.000       57.000                     31.000     35.00   \n",
      "4                821.000      159.000                    267.000    226.00   \n",
      "5                 20.000        6.000                      5.000     12.00   \n",
      "6                  0.000        3.000                      0.000      1.00   \n",
      "7                 21.985        7.313                      9.591      9.71   \n",
      "8                  0.000        0.000                      0.000      0.00   \n",
      "9                  4.000        2.000                      5.000      2.00   \n",
      "10                 8.000        2.000                      0.000      4.00   \n",
      "11                66.000       35.000                     35.000     28.00   \n",
      "12               495.000      125.000                    178.000    164.00   \n",
      "13               113.000       18.000                     36.000     31.00   \n",
      "14               114.000       19.000                     16.000     13.00   \n",
      "15                 3.000        0.000                      0.000      0.00   \n",
      "16                22.000        3.000                      8.000      7.00   \n",
      "17               117.000       30.000                     38.000     25.00   \n",
      "18                 0.000        0.000                      0.000      0.00   \n",
      "19                 4.000        0.000                      0.000      0.00   \n",
      "20                 0.000        0.000                      1.000      0.00   \n",
      "21               119.000       19.000                     18.000     34.00   \n",
      "22                 5.000        1.000                      0.000      2.00   \n",
      "\n",
      "    7.Horta-  \\nGuinardó  8.Nou  \\nBarris  9.Sant  \\nAndreu  10.Sant  \\nMartí  \n",
      "0                  8.852            8.865            11.406            25.650  \n",
      "1                  5.000            8.000             3.000            11.000  \n",
      "2                  0.000            0.000             0.000             1.000  \n",
      "3                 51.000           55.000            66.000            94.000  \n",
      "4                374.000          512.000           445.000           747.000  \n",
      "5                 14.000           22.000            17.000            22.000  \n",
      "6                  0.000            1.000             0.000             2.000  \n",
      "7                  7.920            7.545            10.323            23.817  \n",
      "8                  0.000            0.000             0.000             0.000  \n",
      "9                  2.000            3.000             0.000             0.000  \n",
      "10                 1.000            8.000             5.000             3.000  \n",
      "11                29.000           51.000            37.000            43.000  \n",
      "12               271.000          372.000           292.000           462.000  \n",
      "13                45.000           64.000            61.000           102.000  \n",
      "14                30.000           78.000            65.000           118.000  \n",
      "15                 0.000            0.000             1.000             1.000  \n",
      "16                32.000           29.000            21.000            18.000  \n",
      "17                30.000           55.000            34.000           100.000  \n",
      "18                 1.000            0.000             0.000             0.000  \n",
      "19                 1.000            1.000             0.000             0.000  \n",
      "20                 0.000            0.000             1.000             0.000  \n",
      "21                46.000           55.000            34.000           102.000  \n",
      "22                 0.000            6.000             1.000             7.000  \n"
     ]
    }
   ],
   "source": [
    "print(data)"
   ]
  },
  {
   "cell_type": "code",
   "execution_count": null,
   "metadata": {},
   "outputs": [],
   "source": []
  }
 ],
 "metadata": {
  "kernelspec": {
   "display_name": "Python 3",
   "language": "python",
   "name": "python3"
  },
  "language_info": {
   "codemirror_mode": {
    "name": "ipython",
    "version": 3
   },
   "file_extension": ".py",
   "mimetype": "text/x-python",
   "name": "python",
   "nbconvert_exporter": "python",
   "pygments_lexer": "ipython3",
   "version": "3.7.3"
  }
 },
 "nbformat": 4,
 "nbformat_minor": 2
}
